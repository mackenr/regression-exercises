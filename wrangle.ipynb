{
 "cells": [
  {
   "cell_type": "code",
   "execution_count": null,
   "metadata": {},
   "outputs": [],
   "source": [
    "\n",
    "\n",
    "from wrangle import *\n",
    "from scipy import stats"
   ]
  },
  {
   "cell_type": "markdown",
   "metadata": {},
   "source": [
    "Let's set up an example scenario as perspective for our regression exercises using the Zillow dataset.\n",
    "\n",
    ">As a Codeup data science graduate, you want to show off your skills to the Zillow data science team in hopes of getting an interview for a position you saw pop up on LinkedIn. You thought it might look impressive to build an end-to-end project in which you use some of their Kaggle data to predict property values using some of their available features; who knows, you might even do some feature engineering to blow them away. Your goal is to predict the values of single unit properties using the obervations from 2017.\n",
    "\n",
    ">In these exercises, you will complete the first step toward the above goal: acquire and prepare the necessary Zillow data from the zillow database in the Codeup database server.\n",
    "\n",
    "1. Acquire bedroomcnt, bathroomcnt, calculatedfinishedsquarefeet, taxvaluedollarcnt, yearbuilt, taxamount, and fips from the zillow database for all 'Single Family Residential' properties.\n",
    "\n",
    "2. Using your acquired Zillow data, walk through the summarization and cleaning steps in your wrangle.ipynb file like we did above. You may handle the missing values however you feel is appropriate and meaningful; remember to document your process and decisions using markdown and code commenting where helpful.\n",
    "\n",
    "3. Store all of the necessary functions to automate your process from acquiring the data to returning a cleaned dataframe with no missing values in your wrangle.py file. Name your final function wrangle_zillow."
   ]
  },
  {
   "cell_type": "code",
   "execution_count": null,
   "metadata": {},
   "outputs": [],
   "source": [
    "# schema='zillow'\n",
    "\n",
    "# sql_database_info_probe(schema)\n",
    "\n",
    "\n",
    "# query='''\n",
    "# select * from propertylandusetype\n",
    "\n",
    "\n",
    "# '''\n",
    "# read=pd.read_sql(query, get_db_url(schema))\n",
    "# read\n",
    "\n",
    "\n",
    "\n",
    "\n"
   ]
  },
  {
   "cell_type": "code",
   "execution_count": null,
   "metadata": {},
   "outputs": [],
   "source": [
    "# sql_database_info_probe()"
   ]
  },
  {
   "cell_type": "code",
   "execution_count": null,
   "metadata": {},
   "outputs": [],
   "source": []
  },
  {
   "cell_type": "markdown",
   "metadata": {},
   "source": [
    "Google the data dictionary for this data set it was used in a kaggle competition.\n"
   ]
  },
  {
   "cell_type": "code",
   "execution_count": null,
   "metadata": {},
   "outputs": [],
   "source": [
    "X_train, y_train, X_validate, y_validate, X_test, y_test=prep_zillow_2017()\n",
    "df=X_train\n",
    "\n",
    "display(\n",
    "df.head(),\n",
    "df.nunique().sort_values()\n",
    ")\n"
   ]
  },
  {
   "cell_type": "code",
   "execution_count": null,
   "metadata": {},
   "outputs": [],
   "source": [
    "\n",
    "cols=set(df.columns.to_list())\n",
    "nums=cols-{\n",
    "'fips',                          \n",
    "'bedroomcnt',                   \n",
    "'bathroomcnt',\n",
    "'decade'}\n",
    "cats=cols-nums\n",
    "\n",
    "cols=list(cols)\n",
    "\n",
    "cats=list(cats)\n",
    "nums=list(nums)\n",
    "\n",
    "df.head()\n",
    "df.describe()\n",
    "\n"
   ]
  },
  {
   "cell_type": "code",
   "execution_count": null,
   "metadata": {},
   "outputs": [],
   "source": [
    "\n",
    "\n",
    "df.head()"
   ]
  },
  {
   "cell_type": "code",
   "execution_count": null,
   "metadata": {},
   "outputs": [],
   "source": [
    "df.info()"
   ]
  },
  {
   "cell_type": "code",
   "execution_count": null,
   "metadata": {},
   "outputs": [],
   "source": [
    "# Shows histograms of the categorical data\n",
    "\n",
    "\n",
    "# for i in (cats):\n",
    "\n",
    "  \n",
    "\n",
    "#     plt.figure(figsize=(10,6))\n",
    "#     sns.displot(data=df,x=df[i],discrete=True)\n",
    "    \n",
    "    \n",
    "#     plt.show()\n",
    "\n"
   ]
  },
  {
   "cell_type": "code",
   "execution_count": null,
   "metadata": {},
   "outputs": [],
   "source": [
    "# for i in (nums):  \n",
    "#     plt.figure(figsize=(10,6))\n",
    "#     sns.displot(data=df,x=df[i],stat='density',kde=True,discrete=False)\n",
    "    \n",
    "    \n",
    "#     plt.show()\n"
   ]
  },
  {
   "cell_type": "code",
   "execution_count": null,
   "metadata": {},
   "outputs": [],
   "source": [
    "## Maybe this a good subset to learn on as we are extrem\n",
    "# df1=df.apply(stats.zscore)\n",
    "# df1=df1.apply(abs)\n",
    "# df1=df1.applymap(lambda x: x<=1.25 )\n",
    "# df2=df[df1]\n",
    "# df2.nunique(dropna=True)\n",
    "\n",
    "# df2.isna()\n",
    "# df2.dropna(inplace=True)\n",
    "# df2\n",
    "# a=len(df)\n",
    "# b=len(df2)\n",
    "# x=(b-a)/a\n",
    "# x=f'{x*100:.2f}%'\n",
    "\n",
    "\n",
    "# display(print(f'This is our percent change after removing all the outliers and then the nulls:\\n {x}'),df2.skew(),df2.kurt(),df2.kurt().mean())\n",
    "\n",
    "\n",
    "\n"
   ]
  },
  {
   "cell_type": "markdown",
   "metadata": {},
   "source": [
    "Use this is the future to make categories binned by the z score. Which would be useful to explicitly identify outliers"
   ]
  },
  {
   "cell_type": "code",
   "execution_count": null,
   "metadata": {},
   "outputs": [],
   "source": [
    "# df3=get_zillow_2017()\n",
    "# df3=df2\n",
    "# a=len(df3)\n",
    "# df3cols=df3.columns.to_list()\n",
    "# df3=remove_outliers_v2(df=df3, k=1.25, col_list=df3cols)\n",
    "# df3.head()\n",
    "\n",
    "# df3.isna()\n",
    "# df3.dropna(inplace=True)\n",
    "# df3\n",
    "\n",
    "# b=len(df3)\n",
    "# x=(b-a)/a\n",
    "# x=f'{x*100:.2f}%'\n",
    "\n",
    "\n",
    "# display(print(f'This is our percent change after removing all the outliers and then the nulls:\\n {x}'),df3.skew(),df3.kurt(),df3.kurt().mean())\n",
    "\n",
    "\n",
    "##here I compared two different ways to exclude outliers by taking the mean of their respective kurtosis by column. Note the two means are nearly the same. I did not take the abs since negative kurtosis is meaningful, Tukey \n",
    "tukey_wnorm_zscore_selection=-0.6661175115340092\n",
    "tukeyalone=-0.24357716836225213\n",
    "zscore_selection_alone=-0.24166069249521904\n",
    "\n",
    "\n"
   ]
  },
  {
   "cell_type": "code",
   "execution_count": null,
   "metadata": {},
   "outputs": [],
   "source": [
    "# We look at the distributions \n",
    "for i in (cols):\n",
    "    \n",
    "\n",
    "  \n",
    "\n",
    "    plt.figure(figsize=(10,6))\n",
    "    sns.displot(data=df,x=df[i],stat='density',kde=True,discrete=False)\n",
    "    \n",
    "    \n",
    "    plt.show()\n",
    "\n",
    "\n",
    "\n"
   ]
  },
  {
   "cell_type": "code",
   "execution_count": null,
   "metadata": {},
   "outputs": [],
   "source": [
    "\n",
    "df.head()\n"
   ]
  },
  {
   "cell_type": "code",
   "execution_count": null,
   "metadata": {},
   "outputs": [],
   "source": []
  },
  {
   "cell_type": "code",
   "execution_count": null,
   "metadata": {},
   "outputs": [],
   "source": [
    "\n",
    "\n",
    "\n",
    "\n",
    "\n",
    "len(df.columns)\n",
    "\n",
    "\n",
    "\n",
    "colset=set(df.columns)\n",
    "col_2_combs=list(combinations(colset,2))\n",
    "len(col_2_combs)\n",
    "\n",
    "for i in col_2_combs:\n",
    "\n",
    "    slope, intercept, r_value, p_value, std_err = stats.linregress(df[i[0]],df[i[1]])\n",
    "    if r_value > .5 and r_value <.99:\n",
    "        print(f'----------\\n{i[0]} vs. {i[1]}:\\nslope:\\n{slope:.3g} \\n\\nintercept:\\n{intercept:.3g}\\n\\n r_value:\\n{r_value:.3g}\\n\\n p_value:\\n{p_value:.3g} \\n\\nstd_err:\\n{std_err:.3g}\\n----------\\n\\n')\n",
    "\n",
    "\n"
   ]
  },
  {
   "cell_type": "code",
   "execution_count": null,
   "metadata": {},
   "outputs": [],
   "source": [
    "display(\n",
    "\n",
    "df.head(),\n",
    "df.skew(),\n",
    "df.kurtosis()\n",
    ")\n",
    "\n",
    "\n",
    "\n"
   ]
  },
  {
   "cell_type": "code",
   "execution_count": null,
   "metadata": {},
   "outputs": [],
   "source": []
  },
  {
   "cell_type": "code",
   "execution_count": null,
   "metadata": {},
   "outputs": [],
   "source": [
    "df.groupby?\n"
   ]
  },
  {
   "cell_type": "code",
   "execution_count": null,
   "metadata": {},
   "outputs": [],
   "source": [
    "df.fips.unique"
   ]
  },
  {
   "cell_type": "code",
   "execution_count": null,
   "metadata": {},
   "outputs": [],
   "source": [
    "# for i in df.columns.to_list():\n",
    "#     print(f'{i}:\\ndifferential entropy:\\n{stats.differential_entropy(df[i])}\\nkurtosistest:\\n{stats.kurtosistest(df[i])}\\n\\n')\n",
    "\n"
   ]
  },
  {
   "cell_type": "code",
   "execution_count": null,
   "metadata": {},
   "outputs": [],
   "source": [
    "stats.levene?"
   ]
  },
  {
   "cell_type": "code",
   "execution_count": null,
   "metadata": {},
   "outputs": [],
   "source": [
    "# dfa=df[df.fips==6037]\n",
    "\n",
    "\n",
    "# for i in (list(colset)):\n",
    "    \n",
    "    \n",
    "\n",
    "  \n",
    "\n",
    "#     plt.figure(figsize=(10,6))\n",
    "#     sns.displot(data=dfa,x=dfa[i],stat='density',kde=True,discrete=False)\n",
    "    \n",
    "    \n",
    "#     plt.show()\n",
    "\n"
   ]
  },
  {
   "cell_type": "code",
   "execution_count": null,
   "metadata": {},
   "outputs": [],
   "source": [
    "\n",
    "\n",
    "# dfb=df[df.fips==6059]\n",
    "\n",
    "\n",
    "# for i in (list(colset)):\n",
    "    \n",
    "    \n",
    "\n",
    "  \n",
    "\n",
    "#     plt.figure(figsize=(10,6))\n",
    "#     sns.displot(data=dfb,x=dfb[i],stat='density',kde=True,discrete=False)\n",
    "    \n",
    "    \n",
    "#     plt.show()\n",
    "\n",
    "\n"
   ]
  },
  {
   "cell_type": "code",
   "execution_count": null,
   "metadata": {},
   "outputs": [],
   "source": [
    "\n",
    "# dfa=df.corr().abs().stack().reset_index().sort_values(0, ascending=False)\n",
    "\n",
    "\n",
    "# dfa['pairs_column']=list(zip(dfa.level_0, dfa.level_1))\n",
    "\n",
    "# dfa.set_index(['pairs_column'], inplace=True)\n",
    "# dfa.drop(columns=['level_0', 'level_1'], inplace=True)\n",
    "# dfa.columns = ['correlation']\n",
    "# dfa.drop_duplicates(inplace=True)\n",
    "# dfa[(dfa.correlation > .25) & (dfa.correlation < .70)]\n",
    "\n",
    "\n",
    "\n"
   ]
  },
  {
   "cell_type": "code",
   "execution_count": null,
   "metadata": {},
   "outputs": [],
   "source": [
    "\n",
    "# dfc=df.corr().abs().stack().reset_index().sort_values(0, ascending=False)\n",
    "# dfc[f'pairs_column']=list(zip(dfc, dfc.column_2))\n",
    "# dfc.set_index(['pairs_column'], inplace=True)\n",
    "# dfc.drop(columns=['column_1', 'column_2'], inplace=True)\n",
    "# dfc.columns = ['correlation']\n",
    "# dfc.drop_duplicates(inplace=True)\n",
    "# dfc[(df.correlation > .70) & (df.correlation < 1)]"
   ]
  },
  {
   "cell_type": "markdown",
   "metadata": {},
   "source": [
    "Start doing some aggressive group bys and see how things look.\n",
    "\n",
    "Why did they pick "
   ]
  },
  {
   "cell_type": "markdown",
   "metadata": {},
   "source": [
    "\n",
    " >The normalized graphs (commented out for perfomance), skew and kurtosis show we have to consider some outliers in our data likely need to scale to obtain interesting results.\n",
    "\n",
    " >At this step we have simply droped the NAN's as they were a marginal ammount of data and added a categorical colum for decades. The graphs are  for the non categorical cols are not interesting at this step as the highlighted by the extreme skew and kurtosis.\n",
    "\n",
    "\n",
    "  >FIPS (a unique county identifier code) so it might not be useful othere than to clasify which county this was in\n",
    "\n",
    "\n",
    "\n",
    "In the lesson review our instructor created a fuction to delete the outliers in each column. Tukey method https://en.wikipedia.org/wiki/Tukey%27s_range_test"
   ]
  }
 ],
 "metadata": {
  "kernelspec": {
   "display_name": "Python 3.9.12 ('base')",
   "language": "python",
   "name": "python3"
  },
  "language_info": {
   "codemirror_mode": {
    "name": "ipython",
    "version": 3
   },
   "file_extension": ".py",
   "mimetype": "text/x-python",
   "name": "python",
   "nbconvert_exporter": "python",
   "pygments_lexer": "ipython3",
   "version": "3.9.10"
  },
  "orig_nbformat": 4,
  "vscode": {
   "interpreter": {
    "hash": "38cca0c38332a56087b24af0bc80247f4fced29cb4f7f437d91dc159adec9c4e"
   }
  }
 },
 "nbformat": 4,
 "nbformat_minor": 2
}
