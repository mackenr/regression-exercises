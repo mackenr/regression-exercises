{
 "cells": [
  {
   "cell_type": "code",
   "execution_count": 17,
   "metadata": {},
   "outputs": [],
   "source": [
    "import pandas as pd\n",
    "import numpy as np\n",
    "from wrangle import *\n",
    "import matplotlib.pyplot as plt\n",
    "\n",
    "# modeling methods\n",
    "from sklearn.metrics import mean_squared_error\n",
    "from sklearn.linear_model import LinearRegression, LassoLars, TweedieRegressor\n",
    "from sklearn.preprocessing import PolynomialFeatures\n",
    "\n",
    "import warnings\n",
    "warnings.filterwarnings(\"ignore\")"
   ]
  },
  {
   "cell_type": "markdown",
   "metadata": {},
   "source": [
    "\n",
    "### Exercises\n",
    "\n",
    "Do your work for this exercise in a jupyter notebook named modeling within the regression-exercises repo. Add, commit, and push your work.\n",
    "\n",
    "\n",
    "\n",
    "1. Select a dataset with a continuous target variable. \n",
    "2. Be sure your data is prepared (no missing values, numeric datatypes) and split into samples. \n",
    "3. Work through **all** of the steps outlined in the lesson, from setting the baseline to selected a model and evaluating the final model on your test data."
   ]
  },
  {
   "cell_type": "code",
   "execution_count": 18,
   "metadata": {},
   "outputs": [
    {
     "name": "stdout",
     "output_type": "stream",
     "text": [
      "Number of observations removed: 18684\n",
      "This is our percent change after removing all the outliers and then the nulls:\n",
      " -33.33%\n",
      "mean kurt:\n",
      "-0.3094772441000198\n"
     ]
    },
    {
     "data": {
      "text/plain": [
       "None"
      ]
     },
     "metadata": {},
     "output_type": "display_data"
    }
   ],
   "source": [
    "prepped_array=prep_zillow_2017(k=1.25)\n"
   ]
  },
  {
   "cell_type": "code",
   "execution_count": 19,
   "metadata": {},
   "outputs": [
    {
     "name": "stdout",
     "output_type": "stream",
     "text": [
      "minwithdecade:\n",
      "{'bathroomcnt', 'bedroomcnt', 'fips', 'area', 'decade'}\n",
      "minwithyearsbuilt\n",
      "{'yearbuilt', 'bathroomcnt', 'bedroomcnt', 'fips', 'area'} \n"
     ]
    }
   ],
   "source": [
    "\n",
    "cols=set(prepped_array[0].columns.to_list())\n",
    "colsdropa={'id','yearbuilt', 'bathdividesbed',\n",
    " 'beddividestaxval',\n",
    " 'bathdividestaxval',\n",
    " 'areadividestaxval',\n",
    " 'bedbathbeyonddividestaxval',\n",
    " 'beddividesarea',\n",
    " 'bathdividesarea',\n",
    " 'bathplusbathdividesarea',\n",
    " 'bathplusbathdividesarea_dividestavval','logerror'}\n",
    "\n",
    "minwithdecade=cols-colsdropa\n",
    "\n",
    "colsdropb=colsdropa-{'yearbuilt'}\n",
    "colsdropb.add('decade')\n",
    "minwithyearsbuilt=cols-colsdropb\n",
    "\n",
    "print(f'''minwithdecade:\\n{minwithdecade}\\nminwithyearsbuilt\\n{minwithyearsbuilt} ''')"
   ]
  },
  {
   "cell_type": "code",
   "execution_count": 20,
   "metadata": {},
   "outputs": [
    {
     "ename": "NameError",
     "evalue": "name 'X_train' is not defined",
     "output_type": "error",
     "traceback": [
      "\u001b[0;31m---------------------------------------------------------------------------\u001b[0m",
      "\u001b[0;31mNameError\u001b[0m                                 Traceback (most recent call last)",
      "\u001b[1;32m/Users/richardmacken/codeup-data-science/regression-exercises/modeling.ipynb Cell 5\u001b[0m in \u001b[0;36m<cell line: 1>\u001b[0;34m()\u001b[0m\n\u001b[0;32m----> <a href='vscode-notebook-cell:/Users/richardmacken/codeup-data-science/regression-exercises/modeling.ipynb#W3sZmlsZQ%3D%3D?line=0'>1</a>\u001b[0m X_train\u001b[39m.\u001b[39mhead()\n",
      "\u001b[0;31mNameError\u001b[0m: name 'X_train' is not defined"
     ]
    }
   ],
   "source": [
    "X_train.head()\n",
    "# y_train.head()"
   ]
  },
  {
   "cell_type": "code",
   "execution_count": null,
   "metadata": {},
   "outputs": [],
   "source": [
    "\n",
    "# make a list to store model rmse in\n",
    "rmse_list=[]\n",
    "model_name_list=[]\n",
    "\n",
    "# We need y_train and y_validate to be dataframes to append the new columns with predicted values. \n",
    "y_train = pd.DataFrame(y_train)\n",
    "y_validate = pd.DataFrame(y_validate)\n",
    "\n",
    "# 1. Predict taxvaluedollarcnt_pred_mean\n",
    "taxvaluedollarcnt_pred_mean = y_train['taxvaluedollarcnt'].mean()\n",
    "y_train['taxvaluedollarcnt_pred_mean'] = taxvaluedollarcnt_pred_mean\n",
    "y_validate['taxvaluedollarcnt_pred_mean'] = taxvaluedollarcnt_pred_mean\n",
    "\n",
    "# 2. compute taxvaluedollarcnt_pred_median\n",
    "taxvaluedollarcnt_pred_median = y_train['taxvaluedollarcnt'].median()\n",
    "y_train['taxvaluedollarcnt_pred_median'] = taxvaluedollarcnt_pred_median\n",
    "y_validate['taxvaluedollarcnt_pred_median'] = taxvaluedollarcnt_pred_median\n",
    "\n",
    "# 3. RMSE of taxvaluedollarcnt_pred_mean\n",
    "rmse_train = mean_squared_error(y_train.taxvaluedollarcnt, y_train.taxvaluedollarcnt_pred_mean)**(1/2)\n",
    "rmse_validate = mean_squared_error(y_validate.taxvaluedollarcnt, y_validate.taxvaluedollarcnt_pred_mean)**(1/2)\n",
    "\n",
    "print(f'''RMSE using Mean\\nTrain/In-Sample: {rmse_train:.4g}\n",
    "      \\nValidate/Out-of-Sample: \\n {rmse_validate:.4g}''')\n",
    "rmse_list.append([rmse_train,rmse_train])\n",
    "model_name_list.append('RMSE using Mean')"
   ]
  },
  {
   "cell_type": "code",
   "execution_count": null,
   "metadata": {},
   "outputs": [],
   "source": [
    "# 4. RMSE of taxvaluedollarcnt_pred_median\n",
    "rmse_train = mean_squared_error(y_train.taxvaluedollarcnt, y_train.taxvaluedollarcnt_pred_median)**(1/2)\n",
    "rmse_validate = mean_squared_error(y_validate.taxvaluedollarcnt, y_validate.taxvaluedollarcnt_pred_median)**(1/2)\n",
    "print(f'''RMSE using Median\\nTrain/In-Sample: {rmse_train:.4g}\n",
    "      \\nValidate/Out-of-Sample: \\n {rmse_validate:.4g}''')\n",
    "\n",
    "rmse_list.append([rmse_train,rmse_train])\n",
    "model_name_list.append('RMSE using Median')"
   ]
  },
  {
   "cell_type": "code",
   "execution_count": null,
   "metadata": {},
   "outputs": [],
   "source": [
    "# 1. Predict taxvaluedollarcnt_pred_mode\n",
    "taxvaluedollarcnt_pred_mode = y_train['taxvaluedollarcnt'].mode()[0]\n",
    "y_train['taxvaluedollarcnt_pred_mode'] = taxvaluedollarcnt_pred_mode\n",
    "y_validate['taxvaluedollarcnt_pred_mode'] = taxvaluedollarcnt_pred_mode\n",
    "\n",
    "\n",
    "# 2. RMSE of taxvaluedollarcnt_pred_mode\n",
    "rmse_train = mean_squared_error(y_train.taxvaluedollarcnt, y_train.taxvaluedollarcnt_pred_mode)**(1/2)\n",
    "rmse_validate = mean_squared_error(y_validate.taxvaluedollarcnt, y_validate.taxvaluedollarcnt_pred_mode)**(1/2)\n",
    "\n",
    "print(f'''RMSE using Mode\\nTrain/In-Sample: {rmse_train:.2g}\n",
    "      \\nValidate/Out-of-Sample: \\n {rmse_validate:.2g}''')\n",
    "rmse_list.append([rmse_train,rmse_train])\n",
    "model_name_list.append('RMSE using Mode')"
   ]
  },
  {
   "cell_type": "code",
   "execution_count": null,
   "metadata": {},
   "outputs": [],
   "source": [
    "y_train"
   ]
  },
  {
   "cell_type": "code",
   "execution_count": null,
   "metadata": {},
   "outputs": [],
   "source": [
    "# plot to visualize actual vs predicted. \n",
    "# plt.hist(y_train.taxvaluedollarcnt, color='blue', alpha=.5, label=\"Actual Tax Values\")\n",
    "# plt.hist(y_train.taxvaluedollarcnt_pred_mean, bins=1, color='red', alpha=.5, rwidth=1e4, label=\"Predicted Tax Values - Mean\")\n",
    "# plt.hist(y_train.taxvaluedollarcnt_pred_median, bins=1, color='orange', alpha=.5, rwidth=1e5, label=\"Predicted Tax Values - Median\")\n",
    "# plt.xlabel(\"Tax Value (Single Family Properties)\")\n",
    "# plt.ylabel(\"Number of Single Family Properties\")\n",
    "# plt.ylim(top=5000)\n",
    "# plt.legend()\n",
    "# plt.show()"
   ]
  },
  {
   "cell_type": "code",
   "execution_count": null,
   "metadata": {},
   "outputs": [],
   "source": [
    "# create the model object\n",
    "lm = LinearRegression(normalize=True)\n",
    "\n",
    "# fit the model to our training data. We must specify the column in y_train, \n",
    "# since we have converted it to a dataframe from a series! \n",
    "lm.fit(X_train, y_train.taxvaluedollarcnt)\n",
    "\n",
    "# predict train\n",
    "y_train['taxvaluedollarcnt_pred_lm'] = lm.predict(X_train)\n",
    "\n",
    "# evaluate: rmse\n",
    "rmse_train = mean_squared_error(y_train.taxvaluedollarcnt, y_train.taxvaluedollarcnt_pred_lm)**(1/2)\n",
    "\n",
    "# predict validate\n",
    "y_validate['taxvaluedollarcnt_pred_lm'] = lm.predict(X_validate)\n",
    "\n",
    "# evaluate: rmse\n",
    "rmse_validate = mean_squared_error(y_validate.taxvaluedollarcnt, y_validate.taxvaluedollarcnt_pred_lm)**(1/2)\n",
    "\n",
    "\n",
    "print(f'''RMSE for OLM \\nTrain/In-Sample: {rmse_train:.4g}\n",
    "      \\nValidate/Out-of-Sample: \\n {rmse_validate:.4g}''')\n",
    "rmse_list.append([rmse_train,rmse_train])\n",
    "model_name_list.append('RMSE for OLM ')"
   ]
  },
  {
   "cell_type": "code",
   "execution_count": null,
   "metadata": {},
   "outputs": [],
   "source": [
    "\n",
    "\n",
    "\n",
    "# create the model object\n",
    "lars = LassoLars(alpha=1.0)\n",
    "\n",
    "# fit the model to our training data. We must specify the column in y_train, \n",
    "# since we have converted it to a dataframe from a series! \n",
    "lars.fit(X_train, y_train.taxvaluedollarcnt)\n",
    "\n",
    "# predict train\n",
    "y_train['taxvaluedollarcnt_pred_lars'] = lars.predict(X_train)\n",
    "\n",
    "# evaluate: rmse\n",
    "rmse_train = mean_squared_error(y_train.taxvaluedollarcnt, y_train.taxvaluedollarcnt_pred_lars)**(1/2)\n",
    "\n",
    "# predict validate\n",
    "y_validate['taxvaluedollarcnt_pred_lars'] = lars.predict(X_validate)\n",
    "\n",
    "# evaluate: rmse\n",
    "rmse_validate = mean_squared_error(y_validate.taxvaluedollarcnt, y_validate.taxvaluedollarcnt_pred_lars)**(1/2)\n",
    "\n",
    "\n",
    "print(f'''RMSE for Lasso + Lars\\nTraining/In-Sample: :  {rmse_train:.4g}\n",
    " \\nValidate/Out-of-Sample: \\n {rmse_validate:.4g}''')\n",
    "\n",
    "rmse_list.append([rmse_train,rmse_train])\n",
    "model_name_list.append('RMSE for Lasso + Lars ')"
   ]
  },
  {
   "cell_type": "code",
   "execution_count": null,
   "metadata": {},
   "outputs": [],
   "source": [
    "\n",
    "\n",
    "# create the model object\n",
    "glm = TweedieRegressor(power=1, alpha=0)\n",
    "\n",
    "# fit the model to our training data. We must specify the column in y_train, \n",
    "# since we have converted it to a dataframe from a series! \n",
    "glm.fit(X_train, y_train.taxvaluedollarcnt)\n",
    "\n",
    "# predict train\n",
    "y_train['taxvaluedollarcnt_pred_glm'] = glm.predict(X_train)\n",
    "\n",
    "# evaluate: rmse\n",
    "rmse_train = mean_squared_error(y_train.taxvaluedollarcnt, y_train.taxvaluedollarcnt_pred_glm)**(1/2)\n",
    "\n",
    "# predict validate\n",
    "y_validate['taxvaluedollarcnt_pred_glm'] = glm.predict(X_validate)\n",
    "\n",
    "# evaluate: rmse\n",
    "rmse_validate = mean_squared_error(y_validate.taxvaluedollarcnt, y_validate.taxvaluedollarcnt_pred_glm)**(1/2)\n",
    "\n",
    "\n",
    "print(f'''RMSE for GLM using Tweedie, power=1 & alpha=0\\nTraining/In-Sample:  {rmse_train:.4g}\n",
    "      \"\\nValidate/Out-of-Sample: \\n {rmse_validate:.4g}''')\n",
    "rmse_list.append([rmse_train,rmse_train])"
   ]
  },
  {
   "cell_type": "code",
   "execution_count": null,
   "metadata": {},
   "outputs": [],
   "source": [
    "# make the polynomial features to get a new set of features\n",
    "pf = PolynomialFeatures(degree=2)\n",
    "\n",
    "# fit and transform X_train_scaled\n",
    "X_train_degree2 = pf.fit_transform(X_train)\n",
    "\n",
    "# transform X_validate_scaled & X_test_scaled\n",
    "X_validate_degree2 = pf.transform(X_validate)\n",
    "X_test_degree2 = pf.transform(X_test)\n"
   ]
  },
  {
   "cell_type": "code",
   "execution_count": null,
   "metadata": {},
   "outputs": [],
   "source": [
    "# create the model object\n",
    "lm2 = LinearRegression(normalize=True)\n",
    "\n",
    "# fit the model to our training data. We must specify the column in y_train, \n",
    "# since we have converted it to a dataframe from a series! \n",
    "lm2.fit(X_train_degree2, y_train.taxvaluedollarcnt)\n",
    "\n",
    "# predict train\n",
    "y_train['taxvaluedollarcnt_pred_lm2'] = lm2.predict(X_train_degree2)\n",
    "\n",
    "# evaluate: rmse\n",
    "rmse_train = mean_squared_error(y_train.taxvaluedollarcnt, y_train.taxvaluedollarcnt_pred_lm2)**(1/2)\n",
    "\n",
    "# predict validate\n",
    "y_validate['taxvaluedollarcnt_pred_lm2'] = lm2.predict(X_validate_degree2)\n",
    "\n",
    "# evaluate: rmse\n",
    "rmse_validate = mean_squared_error(y_validate.taxvaluedollarcnt, y_validate.taxvaluedollarcnt_pred_lm2)**(1/2)\n",
    "\n",
    "print(f'''RMSE for Polynomial Model, degrees=2\\nTraining/In-Sample: :  {rmse_train:.4g}\n",
    " \\nValidate/Out-of-Sample: \\n {rmse_validate:.4g}''')\n",
    "\n",
    "rmse_list.append([rmse_train,rmse_train])\n",
    "model_name_list.append('RMSE for Polynomial Model')\n",
    "\n"
   ]
  },
  {
   "cell_type": "code",
   "execution_count": null,
   "metadata": {},
   "outputs": [],
   "source": [
    "modelsresmedict=dict(zip(model_name_list,rmse_list))\n",
    "rmseDF=pd.DataFrame(data=modelsresmedict,index=['Train','Validate'])\n",
    "rmseDF=rmseDF.T\n",
    "rmseDF['Diff']=rmseDF.Train-rmseDF.Validate\n",
    "rmseDF"
   ]
  },
  {
   "cell_type": "code",
   "execution_count": null,
   "metadata": {},
   "outputs": [],
   "source": [
    "# y_validate.head()\n",
    "plt.figure(figsize=(16,8))\n",
    "plt.plot(y_validate.taxvaluedollarcnt, y_validate.taxvaluedollarcnt_pred_mean, alpha=.5, color=\"purple\", label='_nolegend_')\n",
    "plt.annotate(\"Baseline: Predict Using Mean\", (16, 9.5))\n",
    "plt.plot(y_validate.taxvaluedollarcnt, y_validate.taxvaluedollarcnt, alpha=.5, color=\"blue\", label='_nolegend_')\n",
    "plt.annotate(\"The Ideal Line: Predicted = Actual\", (.5+3, 3.5+3), rotation=15.5)\n",
    "\n",
    "plt.scatter(y_validate.taxvaluedollarcnt, y_validate.taxvaluedollarcnt_pred_lm, \n",
    "            alpha=.5, color=\"red\", s=100, label=\"Model: LinearRegression\")\n",
    "plt.scatter(y_validate.taxvaluedollarcnt, y_validate.taxvaluedollarcnt_pred_glm, \n",
    "            alpha=.5, color=\"yellow\", s=100, label=\"Model: TweedieRegressor\")\n",
    "plt.scatter(y_validate.taxvaluedollarcnt, y_validate.taxvaluedollarcnt_pred_lm2, \n",
    "            alpha=.5, color=\"green\", s=100, label=\"Model 2nd degree Polynomial\")\n",
    "plt.legend()\n",
    "plt.xlabel(\"Actual Tax Value\")\n",
    "plt.ylabel(\"Predicted Tax Value\")\n",
    "plt.title(\"Where are predictions more extreme? More modest?\")\n",
    "# plt.annotate(\"The polynomial model appears to overreact to noise\", (2.0, -10))\n",
    "# plt.annotate(\"The OLS model (LinearRegression)\\n appears to be most consistent\", (15.5, 3))\n",
    "plt.show()\n",
    "\n",
    "\n",
    "\n"
   ]
  },
  {
   "cell_type": "code",
   "execution_count": null,
   "metadata": {},
   "outputs": [],
   "source": [
    "\n",
    "# y_validate.head()\n",
    "plt.figure(figsize=(16,8))\n",
    "plt.axhline(label=\"No Error\")\n",
    "plt.scatter(y_validate.taxvaluedollarcnt, y_validate.taxvaluedollarcnt_pred_lm-y_validate.taxvaluedollarcnt, \n",
    "            alpha=.5, color=\"red\", s=100, label=\"Model: LinearRegression\")\n",
    "plt.scatter(y_validate.taxvaluedollarcnt, y_validate.taxvaluedollarcnt_pred_glm-y_validate.taxvaluedollarcnt, \n",
    "            alpha=.5, color=\"yellow\", s=100, label=\"Model: TweedieRegressor\")\n",
    "plt.scatter(y_validate.taxvaluedollarcnt, y_validate.taxvaluedollarcnt_pred_lm2-y_validate.taxvaluedollarcnt, \n",
    "            alpha=.5, color=\"green\", s=100, label=\"Model 2nd degree Polynomial\")\n",
    "plt.legend()\n",
    "plt.xlabel(\"Actual Tax Value\")\n",
    "plt.ylabel(\"Residual/Error: Predicted Grade - Actual Grade\")\n",
    "plt.title(\"Do the size of errors change as the actual value changes?\")\n",
    "plt.annotate(\"The polynomial model appears to overreact to noise\", (2.0, -10))\n",
    "plt.annotate(\"The OLS model (LinearRegression)\\n appears to be most consistent\", (15.5, 3))\n",
    "plt.show()\n",
    "\n"
   ]
  },
  {
   "cell_type": "code",
   "execution_count": null,
   "metadata": {},
   "outputs": [],
   "source": [
    "# plot to visualize actual vs predicted. \n",
    "plt.figure(figsize=(16,8))\n",
    "\n",
    "# plt.hist(y_validate.taxvaluedollarcnt_pred_lm, color='red', alpha=.5, label=\"Model: LinearRegression\")\n",
    "\n",
    "# plt.hist(y_validate.taxvaluedollarcnt_pred_lm2, color='green', alpha=.5, label=\"Model 2nd degree Polynomial\")\n",
    "plt.hist(y_validate.taxvaluedollarcnt, color='white', alpha=.5, label=\"Actual Tax Values\")\n",
    "# plt.hist(y_validate.taxvaluedollarcnt_pred_glm, color='blue', alpha=.5, label=\"Model: TweedieRegressor\")\n",
    "plt.xlabel(\"Taxes (taxvaluedollarcnt)\")\n",
    "plt.ylabel(\"Number Single Family Residences\")\n",
    "plt.title(\"Comparing the Distribution of Actual Tax Values to Distributions of Predicted Tax Values for the Top Models\")\n",
    "plt.legend()\n",
    "plt.show()\n"
   ]
  },
  {
   "cell_type": "code",
   "execution_count": null,
   "metadata": {},
   "outputs": [],
   "source": [
    "plt.figure(figsize=(16,8))\n",
    "\n",
    "# plt.hist(y_validate.taxvaluedollarcnt_pred_lm, color='red', alpha=.5, label=\"Model: LinearRegression\")\n",
    "\n",
    "plt.hist(y_validate.taxvaluedollarcnt_pred_lm2, color='green', alpha=.5, label=\"Model 2nd degree Polynomial\")\n",
    "# plt.hist(y_validate.taxvaluedollarcnt, color='white', alpha=.5, label=\"Actual Tax Values\")\n",
    "# plt.hist(y_validate.taxvaluedollarcnt_pred_glm, color='blue', alpha=.5, label=\"Model: TweedieRegressor\")\n",
    "plt.xlabel(\"Taxes (taxvaluedollarcnt)\")\n",
    "plt.ylabel(\"Number Single Family Residences\")\n",
    "plt.title(\"Comparing the Distribution of Actual Tax Values to Distributions of Predicted Tax Values for the Top Models\")\n",
    "plt.legend()\n",
    "plt.show()\n",
    "\n"
   ]
  },
  {
   "cell_type": "code",
   "execution_count": null,
   "metadata": {},
   "outputs": [],
   "source": []
  },
  {
   "cell_type": "code",
   "execution_count": null,
   "metadata": {},
   "outputs": [],
   "source": [
    "\n",
    "# predict on test\n",
    "y_test['taxvaluedollarcnt_pred_lm2'] = lm2.predict(X_test_degree2)\n",
    "\n",
    "\n",
    "# evaluate: rmse\n",
    "rmse_test = mean_squared_error(y_test.taxvaluedollarcnt, (y_test.taxvaluedollarcnt_pred_lm2)**(1/2))\n",
    "\n",
    "\n",
    "print(f\"RMSE for Polynomial Model, degrees=2\\nTest/Out-of-Sample Performance:\\n{rmse_test:.2g}\")\n",
    "\n",
    "\n",
    "\n"
   ]
  },
  {
   "cell_type": "code",
   "execution_count": null,
   "metadata": {},
   "outputs": [],
   "source": [
    "\n",
    "\n",
    "y_test['taxvaluedollarcnt_pred_glm'] = glm.predict(X_test)\n",
    "\n",
    "\n",
    "\n",
    "# evaluate: rmse\n",
    "rmse_test = mean_squared_error(y_test.taxvaluedollarcnt, (y_test.taxvaluedollarcnt_pred_glm)**(1/2))\n",
    "\n",
    "\n",
    "print(f\"RMSE for Polynomial Model, degrees=2\\nTest/Out-of-Sample Performance:\\n{rmse_test:.2g}\")\n",
    "\n",
    "\n",
    "\n",
    "\n",
    "\n"
   ]
  }
 ],
 "metadata": {
  "kernelspec": {
   "display_name": "Python 3.9.10 ('base')",
   "language": "python",
   "name": "python3"
  },
  "language_info": {
   "codemirror_mode": {
    "name": "ipython",
    "version": 3
   },
   "file_extension": ".py",
   "mimetype": "text/x-python",
   "name": "python",
   "nbconvert_exporter": "python",
   "pygments_lexer": "ipython3",
   "version": "3.9.10"
  },
  "orig_nbformat": 4,
  "vscode": {
   "interpreter": {
    "hash": "38cca0c38332a56087b24af0bc80247f4fced29cb4f7f437d91dc159adec9c4e"
   }
  }
 },
 "nbformat": 4,
 "nbformat_minor": 2
}
