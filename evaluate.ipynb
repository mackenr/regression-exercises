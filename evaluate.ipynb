{
 "cells": [
  {
   "cell_type": "code",
   "execution_count": 51,
   "metadata": {},
   "outputs": [
    {
     "name": "stdout",
     "output_type": "stream",
     "text": [
      "Number of observations removed: 471854\n",
      "This is our percent change after removing all the outliers and then the nulls:\n",
      " -22.02%\n",
      "mean kurt:\n",
      "-0.2173658225527361\n"
     ]
    },
    {
     "data": {
      "text/plain": [
       "None"
      ]
     },
     "metadata": {},
     "output_type": "display_data"
    }
   ],
   "source": [
    "from wrangle import *\n",
    "\n",
    "\n",
    "from scipy import stats\n",
    "from sklearn.metrics import mean_squared_error, r2_score, explained_variance_score\n",
    "\n",
    "from sklearn.linear_model import LinearRegression\n",
    "from sklearn.feature_selection import f_regression \n",
    "from math import sqrt\n",
    "import matplotlib.pyplot as plt\n",
    "import warnings\n",
    "warnings.filterwarnings('ignore')\n",
    "\n",
    "df=prep_zillow_2017(1.25)\n",
    "\n",
    "x_train_and_validate, x_test = train_test_split(df, random_state=123)\n",
    "x_train, x_validate = train_test_split(x_train_and_validate)\n",
    "df=x_train\n",
    "\n"
   ]
  },
  {
   "cell_type": "code",
   "execution_count": 52,
   "metadata": {},
   "outputs": [],
   "source": [
    "\n",
    "\n",
    "\n",
    "cols=set(df.columns.to_list())\n",
    "\n",
    "nums=cols-{\n",
    "'fips',                          \n",
    "'bedroomcnt',                   \n",
    "'bathroomcnt',\n",
    "'decade',\n",
    "'yearbuilt'}\n",
    "\n",
    "cats=cols-nums\n",
    "\n",
    "cat_2_combs=list(combinations(cats,2))\n",
    "num_2_combs=list(combinations(nums,2))\n",
    "cat_3_combs=list(combinations(cats,3))\n",
    "num_3_combs=list(combinations(nums,3))\n",
    "cat_v_num=set(product(cats,nums))\n",
    "\n",
    "num_v_cat=set(product(nums,cats))\n",
    "\n",
    "\n",
    "\n",
    "cols=list(cols)\n",
    "cats=list(cats)\n",
    "nums=list(nums)\n",
    "\n"
   ]
  },
  {
   "cell_type": "code",
   "execution_count": 53,
   "metadata": {},
   "outputs": [
    {
     "name": "stdout",
     "output_type": "stream",
     "text": [
      "nums:\n",
      "['taxamount', 'calculatedfinishedsquarefeet', 'taxvaluedollarcnt']\n",
      "\n",
      "cats:\n",
      "['yearbuilt', 'decade', 'bathroomcnt', 'fips', 'bedroomcnt']\n",
      "\n",
      "\n"
     ]
    }
   ],
   "source": [
    "print(f'nums:\\n{nums}\\n\\ncats:\\n{cats}\\n\\n')"
   ]
  },
  {
   "cell_type": "code",
   "execution_count": null,
   "metadata": {},
   "outputs": [],
   "source": []
  },
  {
   "cell_type": "markdown",
   "metadata": {},
   "source": []
  },
  {
   "cell_type": "markdown",
   "metadata": {},
   "source": [
    "\n",
    "### Exercises\n",
    "\n",
    "Do you work for this exercise in either a jupyter notebook named evaluate within your regression-exercises repository. By the end of this exercise you will also create a python script named evaluate, so the overall deliverables for this exercise are the python script and jupyter notebook both with the name evaluate within your regression-exercises repo.\n",
    "\n",
    "\n",
    "\n",
    "1. Load your zillow dataset.\n",
    "2. Fit a linear regression model (ordinary least squares) and compute $\\hat{y}$, predictions of taxvaluedollarcnt using only calculatedfinishedsqft.  \\\n",
    "Here is some sample code to get you started:\n",
    "\n",
    "> ```py\n",
    "> from sklearn.linear_model import LinearRegression\n",
    "> \n",
    "> # assuming X and y are already defined\n",
    "> \n",
    "> model = LinearRegression().fit(X, y)\n",
    "> \n",
    "> predictions = model.predict(X)\n",
    "> ```\n",
    "\n",
    "\n",
    " \n",
    " Modify and add to the code above as necessary for it to work with the zillow dataset.\n",
    "\n",
    "3. Plot the residuals for the linear regression model that you made.\n",
    "\n",
    "4. Calculate the sum of squared errors, explained sum of squares, total sum of squares, mean squared error, and root mean squared error for your model.\n",
    "\n",
    "5. Calculate the sum of squared errors, mean squared error, and root mean squared error for the baseline model (i.e. a model that always predicts the average taxvaluedollarcnt amount).\n",
    "\n",
    "6. Write python code that compares the sum of squared errors for your model against the sum of squared errors for the baseline model and outputs whether or not your model performs better than the baseline model.\n",
    "\n",
    "7. What is the amount of variance explained in your model?\n",
    "\n",
    "8. Is your model better than the baseline model?\n",
    "\n",
    "9. Create a file named evaluate.py that contains the following functions.\n",
    "    * plot_residuals(y, $\\hat{y}$): creates a residual plot\n",
    "    * regression_errors(y, $\\hat{y}$): returns the following values:\n",
    "        * sum of squared errors (SSE)\n",
    "        * explained sum of squares (ESS)\n",
    "        * total sum of squares (TSS)\n",
    "        * mean squared error (MSE)\n",
    "        * root mean squared error (RMSE)\n",
    "    * baseline_mean_errors(y): computes the SSE, MSE, and RMSE for the baseline model\n",
    "    * better_than_baseline(y, $\\hat{y}$): returns true if your model performs better than the baseline, otherwise false\n",
    "\n",
    "\n",
    "#### Bonus Exercises\n",
    "\n",
    "\n",
    "\n",
    "1. Load the tips dataset from either pydataset or seaborn. Fit a linear regression model (ordinary least squares) and compute $\\hat{y}$, predictions of tip using total_bill. \n",
    "2. Load the mpg dataset and fit a model that predicts highway mileage based on engine displacement. Take a look at all the regression evaluation metrics, and determine whether this model is better than the baseline model. Use the functions from your evaluate.py to help accomplish this."
   ]
  },
  {
   "cell_type": "code",
   "execution_count": 54,
   "metadata": {},
   "outputs": [
    {
     "data": {
      "text/html": [
       "<div>\n",
       "<style scoped>\n",
       "    .dataframe tbody tr th:only-of-type {\n",
       "        vertical-align: middle;\n",
       "    }\n",
       "\n",
       "    .dataframe tbody tr th {\n",
       "        vertical-align: top;\n",
       "    }\n",
       "\n",
       "    .dataframe thead th {\n",
       "        text-align: right;\n",
       "    }\n",
       "</style>\n",
       "<table border=\"1\" class=\"dataframe\">\n",
       "  <thead>\n",
       "    <tr style=\"text-align: right;\">\n",
       "      <th></th>\n",
       "      <th>x</th>\n",
       "      <th>y</th>\n",
       "      <th>yhat_baseline</th>\n",
       "    </tr>\n",
       "  </thead>\n",
       "  <tbody>\n",
       "    <tr>\n",
       "      <th>1487485</th>\n",
       "      <td>2.14e+03</td>\n",
       "      <td>1.42e+05</td>\n",
       "      <td>3.31e+05</td>\n",
       "    </tr>\n",
       "    <tr>\n",
       "      <th>328322</th>\n",
       "      <td>1.22e+03</td>\n",
       "      <td>3.34e+05</td>\n",
       "      <td>3.31e+05</td>\n",
       "    </tr>\n",
       "    <tr>\n",
       "      <th>368981</th>\n",
       "      <td>1.63e+03</td>\n",
       "      <td>6.57e+05</td>\n",
       "      <td>3.31e+05</td>\n",
       "    </tr>\n",
       "    <tr>\n",
       "      <th>93871</th>\n",
       "      <td>1.01e+03</td>\n",
       "      <td>5.76e+05</td>\n",
       "      <td>3.31e+05</td>\n",
       "    </tr>\n",
       "    <tr>\n",
       "      <th>433187</th>\n",
       "      <td>1.45e+03</td>\n",
       "      <td>2.78e+05</td>\n",
       "      <td>3.31e+05</td>\n",
       "    </tr>\n",
       "  </tbody>\n",
       "</table>\n",
       "</div>"
      ],
      "text/plain": [
       "               x        y  yhat_baseline\n",
       "1487485 2.14e+03 1.42e+05       3.31e+05\n",
       "328322  1.22e+03 3.34e+05       3.31e+05\n",
       "368981  1.63e+03 6.57e+05       3.31e+05\n",
       "93871   1.01e+03 5.76e+05       3.31e+05\n",
       "433187  1.45e+03 2.78e+05       3.31e+05"
      ]
     },
     "execution_count": 54,
     "metadata": {},
     "output_type": "execute_result"
    }
   ],
   "source": [
    "dfa=df\n",
    "dfa.drop(columns=cats,inplace=True)\n",
    "dfa.drop(columns='taxamount',inplace=True)\n",
    "\n",
    "dfa.rename(columns={'calculatedfinishedsquarefeet':'x',\t'taxvaluedollarcnt':'y'},inplace=True)\n",
    "df['yhat_baseline'] = df['y'].mean()\n",
    "dfa.head()"
   ]
  },
  {
   "cell_type": "code",
   "execution_count": 55,
   "metadata": {},
   "outputs": [],
   "source": [
    "# assuming X and y are already defined\n",
    "\n",
    "ols_model = LinearRegression().fit(dfa[['x']], dfa.y)"
   ]
  },
  {
   "cell_type": "code",
   "execution_count": 56,
   "metadata": {},
   "outputs": [
    {
     "data": {
      "text/html": [
       "<div>\n",
       "<style scoped>\n",
       "    .dataframe tbody tr th:only-of-type {\n",
       "        vertical-align: middle;\n",
       "    }\n",
       "\n",
       "    .dataframe tbody tr th {\n",
       "        vertical-align: top;\n",
       "    }\n",
       "\n",
       "    .dataframe thead th {\n",
       "        text-align: right;\n",
       "    }\n",
       "</style>\n",
       "<table border=\"1\" class=\"dataframe\">\n",
       "  <thead>\n",
       "    <tr style=\"text-align: right;\">\n",
       "      <th></th>\n",
       "      <th>x</th>\n",
       "      <th>y</th>\n",
       "      <th>yhat_baseline</th>\n",
       "      <th>yhat</th>\n",
       "    </tr>\n",
       "  </thead>\n",
       "  <tbody>\n",
       "    <tr>\n",
       "      <th>1487485</th>\n",
       "      <td>2.14e+03</td>\n",
       "      <td>1.42e+05</td>\n",
       "      <td>3.31e+05</td>\n",
       "      <td>4.06e+05</td>\n",
       "    </tr>\n",
       "    <tr>\n",
       "      <th>328322</th>\n",
       "      <td>1.22e+03</td>\n",
       "      <td>3.34e+05</td>\n",
       "      <td>3.31e+05</td>\n",
       "      <td>2.65e+05</td>\n",
       "    </tr>\n",
       "    <tr>\n",
       "      <th>368981</th>\n",
       "      <td>1.63e+03</td>\n",
       "      <td>6.57e+05</td>\n",
       "      <td>3.31e+05</td>\n",
       "      <td>3.28e+05</td>\n",
       "    </tr>\n",
       "    <tr>\n",
       "      <th>93871</th>\n",
       "      <td>1.01e+03</td>\n",
       "      <td>5.76e+05</td>\n",
       "      <td>3.31e+05</td>\n",
       "      <td>2.34e+05</td>\n",
       "    </tr>\n",
       "    <tr>\n",
       "      <th>433187</th>\n",
       "      <td>1.45e+03</td>\n",
       "      <td>2.78e+05</td>\n",
       "      <td>3.31e+05</td>\n",
       "      <td>3.01e+05</td>\n",
       "    </tr>\n",
       "  </tbody>\n",
       "</table>\n",
       "</div>"
      ],
      "text/plain": [
       "               x        y  yhat_baseline     yhat\n",
       "1487485 2.14e+03 1.42e+05       3.31e+05 4.06e+05\n",
       "328322  1.22e+03 3.34e+05       3.31e+05 2.65e+05\n",
       "368981  1.63e+03 6.57e+05       3.31e+05 3.28e+05\n",
       "93871   1.01e+03 5.76e+05       3.31e+05 2.34e+05\n",
       "433187  1.45e+03 2.78e+05       3.31e+05 3.01e+05"
      ]
     },
     "execution_count": 56,
     "metadata": {},
     "output_type": "execute_result"
    }
   ],
   "source": [
    "\n",
    "dfa['yhat']=ols_model.predict(df[['x']])\n",
    "dfa.head()"
   ]
  },
  {
   "cell_type": "code",
   "execution_count": 57,
   "metadata": {},
   "outputs": [],
   "source": [
    "MSE2_baseline = mean_squared_error(dfa.y, dfa['yhat_baseline'])\n",
    "MSE2 = mean_squared_error(dfa.y, dfa.yhat)\n",
    "SSE2_baseline =  MSE2_baseline * len(dfa)\n",
    "SSE2 = MSE2 * len(df)\n",
    "RMSE2_baseline = MSE2_baseline**.5\n",
    "RMSE2 = MSE2**.5"
   ]
  },
  {
   "cell_type": "code",
   "execution_count": 58,
   "metadata": {},
   "outputs": [
    {
     "data": {
      "text/plain": [
       "205400.8680548989"
      ]
     },
     "metadata": {},
     "output_type": "display_data"
    },
    {
     "data": {
      "text/plain": [
       "186480.18607925632"
      ]
     },
     "metadata": {},
     "output_type": "display_data"
    }
   ],
   "source": [
    "\n",
    "\n",
    "display(\n",
    "mean_squared_error(dfa.y, dfa['yhat_baseline'], squared=False),\n",
    "mean_squared_error(dfa.y, dfa.yhat, squared=False)\n",
    ")"
   ]
  },
  {
   "cell_type": "code",
   "execution_count": 59,
   "metadata": {},
   "outputs": [
    {
     "name": "stdout",
     "output_type": "stream",
     "text": [
      "MSE baseline:\n",
      "4.22e+10\n",
      "\n",
      "MSE:\n",
      "3.48e+10\n",
      "\n",
      "SSE baseline:\n",
      "3.98e+16\n",
      "\n",
      "SSE:\n",
      "3.28e+16\n",
      "\n",
      "RMSE baseline:\n",
      "2.05e+05\n",
      "\n",
      "RMSE:\n",
      "1.86e+05\n",
      "\n"
     ]
    },
    {
     "data": {
      "text/plain": [
       "[None, None, None, None, None, None]"
      ]
     },
     "execution_count": 59,
     "metadata": {},
     "output_type": "execute_result"
    }
   ],
   "source": [
    "MSEetclistnames=[\"MSE baseline:\",\"MSE:\",\"SSE baseline:\" ,\n",
    "\"SSE:\", \n",
    "\"RMSE baseline:\", \n",
    "\"RMSE:\"]\n",
    "MSEetclist=[MSE2_baseline,MSE2,SSE2_baseline,SSE2,RMSE2_baseline,RMSE2]\n",
    "MSEetclist=[f'{i:.3g}' for i in MSEetclist]\n",
    "MSEetclistnames=[i+'\\n' for i in MSEetclistnames]\n",
    "MSEtodisp=([MSEetclistnames[i]+MSEetclist[i] for i,k in enumerate(MSEetclistnames)])\n",
    "[print(f'{i}\\n') for i in MSEtodisp]\n"
   ]
  },
  {
   "cell_type": "code",
   "execution_count": 91,
   "metadata": {},
   "outputs": [
    {
     "data": {
      "text/html": [
       "<div>\n",
       "<style scoped>\n",
       "    .dataframe tbody tr th:only-of-type {\n",
       "        vertical-align: middle;\n",
       "    }\n",
       "\n",
       "    .dataframe tbody tr th {\n",
       "        vertical-align: top;\n",
       "    }\n",
       "\n",
       "    .dataframe thead th {\n",
       "        text-align: right;\n",
       "    }\n",
       "</style>\n",
       "<table border=\"1\" class=\"dataframe\">\n",
       "  <thead>\n",
       "    <tr style=\"text-align: right;\">\n",
       "      <th></th>\n",
       "      <th>x</th>\n",
       "      <th>y</th>\n",
       "      <th>yhat_baseline</th>\n",
       "      <th>yhat</th>\n",
       "      <th>residual</th>\n",
       "      <th>residual_baseline</th>\n",
       "      <th>residual^2</th>\n",
       "      <th>residual_baseline^2</th>\n",
       "      <th>SSE</th>\n",
       "      <th>SSE_baseline</th>\n",
       "      <th>MSE</th>\n",
       "      <th>MSE_baseline</th>\n",
       "      <th>RMSE</th>\n",
       "      <th>RMSE_baseline</th>\n",
       "    </tr>\n",
       "  </thead>\n",
       "  <tbody>\n",
       "    <tr>\n",
       "      <th>1487485</th>\n",
       "      <td>2,139</td>\n",
       "      <td>1.424e+05</td>\n",
       "      <td>3.315e+05</td>\n",
       "      <td>4.062e+05</td>\n",
       "      <td>2.637e+05</td>\n",
       "      <td>1.89e+05</td>\n",
       "      <td>6.955e+10</td>\n",
       "      <td>3.572e+10</td>\n",
       "      <td>3.284e+16</td>\n",
       "      <td>3.984e+16</td>\n",
       "      <td>3.477e+10</td>\n",
       "      <td>4.219e+10</td>\n",
       "      <td>1.865e+05</td>\n",
       "      <td>2.054e+05</td>\n",
       "    </tr>\n",
       "    <tr>\n",
       "      <th>328322</th>\n",
       "      <td>1,215</td>\n",
       "      <td>3.344e+05</td>\n",
       "      <td>3.315e+05</td>\n",
       "      <td>2.652e+05</td>\n",
       "      <td>-6.923e+04</td>\n",
       "      <td>-2,982</td>\n",
       "      <td>4.793e+09</td>\n",
       "      <td>8.89e+06</td>\n",
       "      <td>3.284e+16</td>\n",
       "      <td>3.984e+16</td>\n",
       "      <td>3.477e+10</td>\n",
       "      <td>4.219e+10</td>\n",
       "      <td>1.865e+05</td>\n",
       "      <td>2.054e+05</td>\n",
       "    </tr>\n",
       "    <tr>\n",
       "      <th>368981</th>\n",
       "      <td>1,628</td>\n",
       "      <td>6.568e+05</td>\n",
       "      <td>3.315e+05</td>\n",
       "      <td>3.282e+05</td>\n",
       "      <td>-3.286e+05</td>\n",
       "      <td>-3.254e+05</td>\n",
       "      <td>1.08e+11</td>\n",
       "      <td>1.059e+11</td>\n",
       "      <td>3.284e+16</td>\n",
       "      <td>3.984e+16</td>\n",
       "      <td>3.477e+10</td>\n",
       "      <td>4.219e+10</td>\n",
       "      <td>1.865e+05</td>\n",
       "      <td>2.054e+05</td>\n",
       "    </tr>\n",
       "    <tr>\n",
       "      <th>93871</th>\n",
       "      <td>1,009</td>\n",
       "      <td>5.756e+05</td>\n",
       "      <td>3.315e+05</td>\n",
       "      <td>2.338e+05</td>\n",
       "      <td>-3.419e+05</td>\n",
       "      <td>-2.442e+05</td>\n",
       "      <td>1.169e+11</td>\n",
       "      <td>5.963e+10</td>\n",
       "      <td>3.284e+16</td>\n",
       "      <td>3.984e+16</td>\n",
       "      <td>3.477e+10</td>\n",
       "      <td>4.219e+10</td>\n",
       "      <td>1.865e+05</td>\n",
       "      <td>2.054e+05</td>\n",
       "    </tr>\n",
       "    <tr>\n",
       "      <th>433187</th>\n",
       "      <td>1,450</td>\n",
       "      <td>2.775e+05</td>\n",
       "      <td>3.315e+05</td>\n",
       "      <td>3.011e+05</td>\n",
       "      <td>2.354e+04</td>\n",
       "      <td>5.394e+04</td>\n",
       "      <td>5.543e+08</td>\n",
       "      <td>2.91e+09</td>\n",
       "      <td>3.284e+16</td>\n",
       "      <td>3.984e+16</td>\n",
       "      <td>3.477e+10</td>\n",
       "      <td>4.219e+10</td>\n",
       "      <td>1.865e+05</td>\n",
       "      <td>2.054e+05</td>\n",
       "    </tr>\n",
       "  </tbody>\n",
       "</table>\n",
       "</div>"
      ],
      "text/plain": [
       "            x         y  yhat_baseline      yhat   residual  \\\n",
       "1487485 2,139 1.424e+05      3.315e+05 4.062e+05  2.637e+05   \n",
       "328322  1,215 3.344e+05      3.315e+05 2.652e+05 -6.923e+04   \n",
       "368981  1,628 6.568e+05      3.315e+05 3.282e+05 -3.286e+05   \n",
       "93871   1,009 5.756e+05      3.315e+05 2.338e+05 -3.419e+05   \n",
       "433187  1,450 2.775e+05      3.315e+05 3.011e+05  2.354e+04   \n",
       "\n",
       "         residual_baseline  residual^2  residual_baseline^2       SSE  \\\n",
       "1487485           1.89e+05   6.955e+10            3.572e+10 3.284e+16   \n",
       "328322              -2,982   4.793e+09             8.89e+06 3.284e+16   \n",
       "368981          -3.254e+05    1.08e+11            1.059e+11 3.284e+16   \n",
       "93871           -2.442e+05   1.169e+11            5.963e+10 3.284e+16   \n",
       "433187           5.394e+04   5.543e+08             2.91e+09 3.284e+16   \n",
       "\n",
       "         SSE_baseline       MSE  MSE_baseline      RMSE  RMSE_baseline  \n",
       "1487485     3.984e+16 3.477e+10     4.219e+10 1.865e+05      2.054e+05  \n",
       "328322      3.984e+16 3.477e+10     4.219e+10 1.865e+05      2.054e+05  \n",
       "368981      3.984e+16 3.477e+10     4.219e+10 1.865e+05      2.054e+05  \n",
       "93871       3.984e+16 3.477e+10     4.219e+10 1.865e+05      2.054e+05  \n",
       "433187      3.984e+16 3.477e+10     4.219e+10 1.865e+05      2.054e+05  "
      ]
     },
     "execution_count": 91,
     "metadata": {},
     "output_type": "execute_result"
    }
   ],
   "source": [
    "\n",
    "dfa['residual'] = dfa['yhat'] - dfa['y']\n",
    "dfa['residual_baseline'] = dfa['yhat_baseline'] - dfa['y']\n",
    "dfa['residual^2'] = dfa.residual ** 2\n",
    "dfa['residual_baseline^2'] = dfa.residual_baseline ** 2\n",
    "dfa['SSE'] = sum(dfa['residual^2'])\n",
    "dfa['SSE_baseline'] = sum(df['residual_baseline^2'])\n",
    "dfa['MSE'] = dfa['SSE'].divide(other = len(dfa))\n",
    "dfa['MSE_baseline'] = dfa['SSE_baseline'].divide(other = len(dfa))\n",
    "dfa['RMSE'] = dfa['MSE'].apply(sqrt)\n",
    "dfa['RMSE_baseline'] = dfa['MSE_baseline'].apply(sqrt)\n",
    "# dfa['ESS']=sum()\n",
    "pd.options.display.float_format = '{:,.4g}'.format\n",
    "\n",
    "dfa.head()\n",
    "\n"
   ]
  },
  {
   "cell_type": "code",
   "execution_count": 111,
   "metadata": {},
   "outputs": [
    {
     "data": {
      "text/html": [
       "<div>\n",
       "<style scoped>\n",
       "    .dataframe tbody tr th:only-of-type {\n",
       "        vertical-align: middle;\n",
       "    }\n",
       "\n",
       "    .dataframe tbody tr th {\n",
       "        vertical-align: top;\n",
       "    }\n",
       "\n",
       "    .dataframe thead th {\n",
       "        text-align: right;\n",
       "    }\n",
       "</style>\n",
       "<table border=\"1\" class=\"dataframe\">\n",
       "  <thead>\n",
       "    <tr style=\"text-align: right;\">\n",
       "      <th></th>\n",
       "      <th>model_error</th>\n",
       "      <th>baseline</th>\n",
       "      <th>error_delta</th>\n",
       "    </tr>\n",
       "    <tr>\n",
       "      <th>metric</th>\n",
       "      <th></th>\n",
       "      <th></th>\n",
       "      <th></th>\n",
       "    </tr>\n",
       "  </thead>\n",
       "  <tbody>\n",
       "    <tr>\n",
       "      <th>RMSE</th>\n",
       "      <td>1.865e+05</td>\n",
       "      <td>2.054e+05</td>\n",
       "      <td>-1.892e+04</td>\n",
       "    </tr>\n",
       "    <tr>\n",
       "      <th>MSE</th>\n",
       "      <td>3.477e+10</td>\n",
       "      <td>4.219e+10</td>\n",
       "      <td>-7.415e+09</td>\n",
       "    </tr>\n",
       "    <tr>\n",
       "      <th>SSE</th>\n",
       "      <td>3.284e+16</td>\n",
       "      <td>3.984e+16</td>\n",
       "      <td>-7.002e+15</td>\n",
       "    </tr>\n",
       "  </tbody>\n",
       "</table>\n",
       "</div>"
      ],
      "text/plain": [
       "        model_error  baseline  error_delta\n",
       "metric                                    \n",
       "RMSE      1.865e+05 2.054e+05   -1.892e+04\n",
       "MSE       3.477e+10 4.219e+10   -7.415e+09\n",
       "SSE       3.284e+16 3.984e+16   -7.002e+15"
      ]
     },
     "execution_count": 111,
     "metadata": {},
     "output_type": "execute_result"
    }
   ],
   "source": [
    "\n",
    "dfError=dfa[['SSE','MSE','RMSE']].head(1)\n",
    "dfError=dfError.T\n",
    "dfError.rename_axis('metric',inplace=True)\n",
    "dfError.rename(columns={dfError.columns[0]:'model_error'},inplace=True)\n",
    "dfError['baseline'] = dfa[['SSE_baseline', 'MSE_baseline', 'RMSE_baseline']].head(1).values.T\n",
    "dfError['error_delta']=dfError['model_error']-dfError['baseline']\n",
    "dfError.sort_values(by='error_delta', ascending=False)"
   ]
  },
  {
   "cell_type": "code",
   "execution_count": 110,
   "metadata": {},
   "outputs": [
    {
     "data": {
      "text/plain": [
       "0.1757464269679514"
      ]
     },
     "execution_count": 110,
     "metadata": {},
     "output_type": "execute_result"
    }
   ],
   "source": [
    "r2_score(dfa.y, dfa.yhat)\n"
   ]
  },
  {
   "cell_type": "code",
   "execution_count": null,
   "metadata": {},
   "outputs": [],
   "source": [
    "\n",
    "\n",
    "# sklearn.metrics.explained_variance_score\n",
    "\n",
    "evs = explained_variance_score(dfa.y, dfa.yhat)\n",
    "print('Explained Variance = ', round(evs,3))"
   ]
  }
 ],
 "metadata": {
  "kernelspec": {
   "display_name": "Python 3.9.12 ('base')",
   "language": "python",
   "name": "python3"
  },
  "language_info": {
   "codemirror_mode": {
    "name": "ipython",
    "version": 3
   },
   "file_extension": ".py",
   "mimetype": "text/x-python",
   "name": "python",
   "nbconvert_exporter": "python",
   "pygments_lexer": "ipython3",
   "version": "3.9.10"
  },
  "orig_nbformat": 4,
  "vscode": {
   "interpreter": {
    "hash": "38cca0c38332a56087b24af0bc80247f4fced29cb4f7f437d91dc159adec9c4e"
   }
  }
 },
 "nbformat": 4,
 "nbformat_minor": 2
}
